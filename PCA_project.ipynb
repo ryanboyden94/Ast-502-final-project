{
 "cells": [
  {
   "cell_type": "markdown",
   "metadata": {
    "slideshow": {
     "slide_type": "slide"
    }
   },
   "source": [
    "# AST 502 Project 1: Application of multiple dimensionality-reduction techniques to PSF estimation in high-constrast imaging\n",
    "\n",
    "## Ryan Boyden, Joseph Long, Samuel Wyatt, Minghao Yue\n",
    "\n",
    "## Chapter 7\n",
    "\n"
   ]
  },
  {
   "cell_type": "markdown",
   "metadata": {
    "slideshow": {
     "slide_type": "slide"
    }
   },
   "source": [
    "## If you're following along:\n",
    "\n",
    "1. Clone this project from GitHub to your computer: `git clone https://github.com/ryanboyden94/Ast-502-final-project.git`\n",
    "2. Enter the `Ast-502-final-project/pyklip` directory and run `python setup.py develop`\n",
    "3. Go back to the main project directory (`cd ..`) and open up the notebook with Jupyter (`jupyter notebook`)"
   ]
  },
  {
   "cell_type": "markdown",
   "metadata": {
    "slideshow": {
     "slide_type": "skip"
    }
   },
   "source": [
    "## Outline\n",
    "- Review of Dimensionality Reduction (Ryan?) \n",
    "    - The \"curse of dimensionality\"\n",
    "    - PCA\n",
    "- PCA in high-contrast imaging (Joseph?)\n",
    "    - Intuition for its utility\n",
    "    - functional form\n",
    "- Examples with GPI data (Sam, Minghao, and some of Ryan+Joseph?)\n",
    "    - ALICE arhival project\n",
    "    - algorithms: KLIP, LOCI, etc "
   ]
  },
  {
   "cell_type": "markdown",
   "metadata": {
    "slideshow": {
     "slide_type": "slide"
    }
   },
   "source": [
    "## Recall: how hard is it to find your dream car?\n",
    "\n",
    "![](https://buyersguide.caranddriver.com/media/assets/submodel/8057.jpg)"
   ]
  },
  {
   "cell_type": "markdown",
   "metadata": {
    "slideshow": {
     "slide_type": "slide"
    }
   },
   "source": [
    "## In terms of a probablility...\n",
    "\n",
    "The only criteria for your dream car is that it is a **Lamborghini**. For this thought experiment, assume that 10 % of the cars on the market are Lamborghinis. \n",
    "\n",
    "The Probability of finding your dream car is: \n",
    "\n",
    "$$ P(car = dream) = P(lambo) = 0.1 $$ \n",
    "\n",
    "Now imagine that you're picky and want a **2017 yellow Lamborghini with a spoiler and tinted windows**. \n",
    "\n",
    "If we assume that the probability of each specified parameter (i.e. dimension)  is 10 %, then the chances of finding your dream car is: \n",
    "\n",
    "$$ P(car = dream) = P(lambo) * P(2017) * P(yellow) \n",
    "                         * P(spoiler) * P(tint) = \\bf{10^{-5}} $$\n",
    "\n",
    "--> **_The curse of dimensionality_**"
   ]
  },
  {
   "cell_type": "markdown",
   "metadata": {
    "slideshow": {
     "slide_type": "slide"
    }
   },
   "source": [
    "### Recall the \"unit sample volume\"...\n",
    "\n",
    "![http://www.newsnshit.com/curse-of-dimensionality-interactive-demo/](http://i1.wp.com/www.newsnshit.com/wp-content/uploads/2014/10/580f1__Curse-of-dimensionality-620x549.png?resize=620%2C549)\n",
    "\n",
    "The probability lowers with increasing dimension\n",
    "\n",
    "(Richards 2016)"
   ]
  },
  {
   "cell_type": "code",
   "execution_count": 16,
   "metadata": {
    "slideshow": {
     "slide_type": "slide"
    }
   },
   "outputs": [
    {
     "data": {
      "image/png": "[encoded data removed]",
      "text/plain": [
       "<matplotlib.figure.Figure at 0x112262860>"
      ]
     },
     "metadata": {},
     "output_type": "display_data"
    }
   ],
   "source": [
    "#curse of dimensionality\n",
    "## in the limit of many dimensions, the chances of identifying \n",
    "## a data point within a unit sample volume will be zero!\n",
    "\n",
    "%matplotlib inline\n",
    "import numpy as np\n",
    "import scipy.special as sp\n",
    "from matplotlib import pyplot as plt\n",
    "\n",
    "def fractionVol(dimension):\n",
    "    return (np.pi**(dimension/2.))/(dimension*2.**(dimension-1.)*sp.gamma(dimension/2.))\n",
    "\n",
    "dim = np.linspace(1,100)\n",
    "\n",
    "#------------------------------------------------------------\n",
    "# Plot the results\n",
    "fig = plt.figure()\n",
    "ax = fig.add_subplot(111)\n",
    "ax.plot(dim,fractionVol(dim))\n",
    "\n",
    "ax.set_yscale('log')\n",
    "ax.set_xlabel('$Dimension$')\n",
    "ax.set_ylabel('$Fractional Volume$')\n",
    "\n",
    "plt.show()"
   ]
  },
  {
   "cell_type": "markdown",
   "metadata": {
    "collapsed": true,
    "slideshow": {
     "slide_type": "slide"
    }
   },
   "source": [
    "## Principal Component Analysis (PCA) \n",
    "- A dimensionality reduction technique that uses an orthogonal transformation to convert a set of observations of possibly **correlated** variables into a set of values of **linearly uncorrelated** variables called **principal components**. \n",
    "- Principal components are ordered by the variance captured by each new variable \n"
   ]
  },
  {
   "cell_type": "markdown",
   "metadata": {
    "slideshow": {
     "slide_type": "slide"
    }
   },
   "source": [
    "## Intuition\n",
    "![](http://www.astroml.org/_images/fig_PCA_rotation_1.png)\n",
    "(Lvezic Figure 7.2)\n",
    "- Picture a bivariate Gaussian that is not aligned with the axes it is initially defined on. Here $x$ and $y$ are a set of correlated variables, in this case, axes. PCA identifies a new set of (orthogonal) axes that are uncorrelated, shown as $x^{\\prime}$ and $y^{\\prime}$.\n",
    "- The principal components are orthogonal and aligned along the directions of **maximal variance with zero covariance**\n",
    "    \n"
   ]
  },
  {
   "cell_type": "markdown",
   "metadata": {
    "slideshow": {
     "slide_type": "slide"
    }
   },
   "source": [
    "![](http://www.astroml.org/_images/fig_PCA_rotation_1.png)\n",
    "\n",
    "For the plot above..\n",
    "  - first component $\\Longleftrightarrow$ maximal variance\n",
    "  - second component $\\Longleftrightarrow$ maximal residual variance\n",
    "Where does dimensionality reduction comes into play? \n",
    "  - The physically significant information about our data could only be along the $x^{\\prime}$ axis, and the $y^{\\prime}$ axis, if it's variance is small, could just be noise. Thus, we could toss the information from this second component, obtain cleaner data, and reduce the dimensionality of our problem.\n",
    "  - Each principal component might correspond to a different physical effect (i.e. a star and a planet), so we could isolate, linearly, different physical effects on our data.\n",
    "\n",
    "  \n",
    "  \n",
    "  "
   ]
  },
  {
   "cell_type": "markdown",
   "metadata": {
    "slideshow": {
     "slide_type": "slide"
    }
   },
   "source": [
    "## (A review of) the formal PCA derivation\n",
    "\n",
    "Consider a data set $\\{x_i\\}$ which consists of $N$ objects for which we measure $K$ features (for the bivariate Gaussian, we measured $x$ and $y$).  '\n",
    "\n",
    "The covariance of the centered data matrix $X$ is \n",
    "$$C_X=\\frac{1}{N-1}X^TX$$\n",
    "\n",
    "\n",
    "PCA wishes to identify a projection of $X$, with projection operator $R$, that is aligned with the directions of maximal variance. We express this projection as $Y= X R$ with covariance \n",
    "\n",
    "$$ C_{Y} = \\frac{1}{N-1}Y^T Y= \\frac{1}{N-1} R^T X^T X R = R^T C_X R$$\n",
    "\n",
    "\n",
    "$r_1$ is the first principal component of $R$, subject to the normalization constraint: $r_1^T r_1 = 1$. When the data $X$ is projected onto $r_1$, the variance is maximized. \n",
    "\n",
    "Formally, we can derive $r_1$ by using Langrange multipliers with the following cost function:\n",
    "\n",
    "$$ \\phi(r_1,\\lambda_1) = C_Y - \\lambda_1(r_1^Tr_1-1) = r_1^TC_X r_1 - \\lambda_1(r_1^Tr_1-1). $$\n",
    "\n",
    "We maximize $\\phi(r_1,\\lambda)$ by taking the derivative with respect to $r_1$ and set it to 0. We then have\n",
    "\n",
    "$$ C_Xr_1 - \\lambda_1 r_1 = 0. $$\n",
    "\n",
    "This resembles an eigenvalue equation: $ C_Xr_1 = \\lambda_1 r_1$. \n",
    "\n",
    "The second and further principal compents are derived in an analogous manner, with the additional orthogonality constraint to the cost function (e.g . $r_i^T r_j = 0$).\n",
    "\n",
    "Thus, the eigenvectors of $C_X$ correspond to the projections of maximum variance, where the eigenvalues denote the magnitude of the variance along each component."
   ]
  },
  {
   "cell_type": "markdown",
   "metadata": {
    "slideshow": {
     "slide_type": "slide"
    }
   },
   "source": [
    "## Astrophysical applications of PCA \n",
    "\n",
    "- Astrophysics \n",
    "    - LAST TIME: Decompose spectra of various sources into different principal components (continuum slope, emission/absorption features, and noise)\n",
    "        - creates spectral templates\n",
    "    - This Time: High-constrast imaging \n",
    "        - imaging planets and disks by \"removing\" the star\n"
   ]
  },
  {
   "cell_type": "markdown",
   "metadata": {
    "slideshow": {
     "slide_type": "slide"
    }
   },
   "source": [
    "## High-contrast imaging\n",
    "\n",
    "- Imaging the close vicinity of bright (stellar) objects to look for other objects with a high constrast ratio with respect the bright (stellar) object\n",
    "\n",
    "- How it works: use PCA to determine and subtract the PSF of the bright (stellar) object from the image to isolate dimmer objects\n",
    "\n",
    "# or a better image (talk throught the figure)\n",
    "\n",
    "![](https://visao.as.arizona.edu/wp-content/uploads/2015/06/vapp_pr_fig1.png)\n",
    "\n",
    "(Snik, Kenworthy, & Males 2015)\n",
    "\n"
   ]
  },
  {
   "cell_type": "markdown",
   "metadata": {
    "slideshow": {
     "slide_type": "slide"
    }
   },
   "source": [
    "## Walkthrough of  high-contrast imaging steps\n",
    "(probably wrong but just want to get the outline together)\n",
    "For direct imaging of exoplanets and protoplanetary disks)\n",
    "1. Observe region with coronagraph\n",
    "    - decent amount of starlight suppresion\n",
    "2. Invoke a PCA algorithm to determine the remaining stellar PSF and remove it from the image\n",
    "    - KLIP, LOCI, etc.\n",
    "3. Observe the result!"
   ]
  },
  {
   "cell_type": "markdown",
   "metadata": {
    "slideshow": {
     "slide_type": "slide"
    }
   },
   "source": [
    "## Why PCA\n",
    "\n",
    "Observations of high-contrast imaging, $T$, are represented as\n",
    "\n",
    "$$ T(n) = I_{{\\psi}_0}(n) + \\epsilon A(n), $$\n",
    "\n",
    "where $I_{{\\psi}_0}$ represents the stellar PSF; $A$ represents a faint astronomical symbol which may ($\\epsilon = 1$) or may not ($\\epsilon = 0$) be present; $n$ denotes the compressed pixel index.\n",
    "\n",
    "The goal of PSF subtraction is to reconstruct $I_{{\\psi}_0}$ using a set of reference PSFs $\\{ R_k (n) = I_{{\\psi}_k}(n)\\} _{k = 1...K}$, and then to subtract it from the target image to determing A(n).\n",
    "\n",
    "### PCA is the superior technique for image reconstruction:\n",
    "   1. create a covariance matrix of the reference PSFs\n",
    "   2. identify the principal components with the eigenvalue equation\n",
    "   3. identify the set of coordinates to reconstruct the observed PSF from the principal components of the reference PSFs\n"
   ]
  },
  {
   "cell_type": "markdown",
   "metadata": {
    "slideshow": {
     "slide_type": "slide"
    }
   },
   "source": [
    "## Some comment on the algorithms? i.e. how they are more complicated than just computing the covariance matrix of the reference image? Or maybe we show this?"
   ]
  },
  {
   "cell_type": "markdown",
   "metadata": {
    "slideshow": {
     "slide_type": "slide"
    }
   },
   "source": [
    "## Example: Imaging a planet with pyKLIP\n",
    "\n",
    "We'll be working with the Beta Pictoris system. \n",
    "   - Star: debris disk A-type main sequence \n",
    "   - One confimed giant planet\n",
    "      - Mass ~ 7 Jupiter Masses\n",
    "      - Radius ~ 1.5 Jupiter Radius\n",
    "      - Orbital Radius ~ 9 AU (1.5x Jupiter's Orbit)\n",
    "   - Distance ~ 20 pc\n",
    "\n",
    "Our data was obtained with GPI (Gemini Planet Imager), located on Mauna Kea. \n",
    "   \n",
    "Below is an artist's interpretation:\n",
    "![](https://upload.wikimedia.org/wikipedia/commons/1/12/Artist%E2%80%99s_impression_of_the_planet_Beta_Pictoris_b.jpg)\n",
    "Let's use pyKLIP to remove the stellar PSF and see what the planet looks like!"
   ]
  },
  {
   "cell_type": "code",
   "execution_count": 1,
   "metadata": {
    "slideshow": {
     "slide_type": "slide"
    }
   },
   "outputs": [
    {
     "name": "stderr",
     "output_type": "stream",
     "text": [
      "/Users/ryanboyden/anaconda/lib/python2.7/site-packages/IPython/html.py:14: ShimWarning: The `IPython.html` package has been deprecated since IPython 4.0. You should import from `notebook` instead. `IPython.html.widgets` has moved to `ipywidgets`.\n",
      "  \"`IPython.html.widgets` has moved to `ipywidgets`.\", ShimWarning)\n"
     ]
    }
   ],
   "source": [
    "## from pyklip.examples.BasicKLIPTutorial\n",
    "#intial importing\n",
    "import glob\n",
    "import matplotlib.pylab as plt\n",
    "%matplotlib inline\n",
    "import numpy as np\n",
    "import astropy.io.fits as fits\n",
    "import IPython.html.widgets as widgets\n"
   ]
  },
  {
   "cell_type": "code",
   "execution_count": 2,
   "metadata": {
    "slideshow": {
     "slide_type": "slide"
    }
   },
   "outputs": [
    {
     "name": "stdout",
     "output_type": "stream",
     "text": [
      "['pyklip/tests/data/S20131210S0092_spdc_distorcorr.fits', 'pyklip/tests/data/S20131210S0099_spdc_distorcorr.fits', 'pyklip/tests/data/S20131210S0111_spdc_distorcorr.fits']\n",
      "Reading File: pyklip/tests/data/S20131210S0092_spdc_distorcorr.fits\n",
      "Reading File: pyklip/tests/data/S20131210S0099_spdc_distorcorr.fits\n",
      "Reading File: pyklip/tests/data/S20131210S0111_spdc_distorcorr.fits\n"
     ]
    }
   ],
   "source": [
    "\n",
    "import pyklip.parallelized as parallelized\n",
    "import pyklip.instruments.GPI as GPI\n",
    "\n",
    "## Acquire example files\n",
    "\n",
    "filelist = glob.glob(\"pyklip/tests/data/S20131210*distorcorr.fits\")\n",
    "filelist.sort()\n",
    "\n",
    "print(filelist)\n",
    "\n",
    "dataset = GPI.GPIData(filelist, highpass=True)"
   ]
  },
  {
   "cell_type": "code",
   "execution_count": 6,
   "metadata": {
    "slideshow": {
     "slide_type": "slide"
    }
   },
   "outputs": [
    {
     "name": "stdout",
     "output_type": "stream",
     "text": [
      "Beginning ADI+SDI KLIP\n",
      "Begin align and scale images for each wavelength\n",
      "Wavelength 1.128 with index 1 has finished align and scale. Queuing for KLIP\n",
      "Wavelength 1.139 with index 3 has finished align and scale. Queuing for KLIP\n",
      "Wavelength 1.157 with index 6 has finished align and scale. Queuing for KLIP\n",
      "Wavelength 1.133 with index 2 has finished align and scale. Queuing for KLIP\n",
      "Wavelength 1.151 with index 5 has finished align and scale. Queuing for KLIP\n",
      "Wavelength 1.163 with index 7 has finished align and scale. Queuing for KLIP\n",
      "Wavelength 1.145 with index 4 has finished align and scale. Queuing for KLIP\n",
      "Wavelength 1.11 with index 0 has finished align and scale. Queuing for KLIP\n",
      "Wavelength 1.169 with index 8 has finished align and scale. Queuing for KLIP\n",
      "Wavelength 1.174 with index 9 has finished align and scale. Queuing for KLIP\n",
      "Wavelength 1.187 with index 11 has finished align and scale. Queuing for KLIP\n",
      "Wavelength 1.181 with index 10 has finished align and scale. Queuing for KLIP\n",
      "Wavelength 1.199 with index 13 has finished align and scale. Queuing for KLIP\n",
      "Wavelength 1.193 with index 12 has finished align and scale. Queuing for KLIP\n",
      "Wavelength 1.205 with index 14 has finished align and scale. Queuing for KLIP\n",
      "Wavelength 1.211 with index 15 has finished align and scale. Queuing for KLIP\n",
      "Wavelength 1.217 with index 16 has finished align and scale. Queuing for KLIP\n",
      "Wavelength 1.232 with index 18 has finished align and scale. Queuing for KLIP\n",
      "Wavelength 1.224 with index 17 has finished align and scale. Queuing for KLIP\n",
      "Wavelength 1.243 with index 20 has finished align and scale. Queuing for KLIP\n",
      "Wavelength 1.238 with index 19 has finished align and scale. Queuing for KLIP\n",
      "Wavelength 1.25 with index 21 has finished align and scale. Queuing for KLIP\n",
      "Wavelength 1.257 with index 22 has finished align and scale. Queuing for KLIP\n",
      "Wavelength 1.263 with index 23 has finished align and scale. Queuing for KLIP\n",
      "Wavelength 1.27 with index 24 has finished align and scale. Queuing for KLIP\n",
      "Wavelength 1.276 with index 25 has finished align and scale. Queuing for KLIP\n",
      "Wavelength 1.284 with index 26 has finished align and scale. Queuing for KLIP\n",
      "Wavelength 1.304 with index 29 has finished align and scale. Queuing for KLIP\n",
      "Wavelength 1.291 with index 27 has finished align and scale. Queuing for KLIP\n",
      "Wavelength 1.297 with index 28 has finished align and scale. Queuing for KLIP\n",
      "Wavelength 1.308 with index 30 has finished align and scale. Queuing for KLIP\n",
      "Wavelength 1.315 with index 31 has finished align and scale. Queuing for KLIP\n",
      "Wavelength 1.322 with index 32 has finished align and scale. Queuing for KLIP\n",
      "Wavelength 1.327 with index 33 has finished align and scale. Queuing for KLIP\n",
      "Wavelength 1.333 with index 34 has finished align and scale. Queuing for KLIP\n",
      "Wavelength 1.337 with index 35 has finished align and scale. Queuing for KLIP\n",
      "Wavelength 1.339 with index 36 has finished align and scale. Queuing for KLIP\n",
      "Total number of tasks for KLIP processing is 1332\n",
      "0.7508% done (9/1332 completed)\n",
      "1.502% done (19/1332 completed)\n",
      "2.252% done (29/1332 completed)\n",
      "3.003% done (39/1332 completed)\n",
      "3.754% done (49/1332 completed)\n",
      "4.505% done (59/1332 completed)\n",
      "5.255% done (69/1332 completed)\n",
      "6.006% done (79/1332 completed)\n",
      "6.757% done (89/1332 completed)\n",
      "7.508% done (99/1332 completed)\n",
      "8.258% done (109/1332 completed)\n",
      "9.009% done (119/1332 completed)\n",
      "9.76% done (129/1332 completed)\n",
      "10.51% done (139/1332 completed)\n",
      "11.26% done (149/1332 completed)\n",
      "12.01% done (159/1332 completed)\n",
      "12.76% done (169/1332 completed)\n",
      "13.51% done (179/1332 completed)\n",
      "14.26% done (189/1332 completed)\n",
      "15.02% done (199/1332 completed)\n",
      "15.77% done (209/1332 completed)\n",
      "16.52% done (219/1332 completed)\n",
      "17.27% done (229/1332 completed)\n",
      "18.02% done (239/1332 completed)\n",
      "18.77% done (249/1332 completed)\n",
      "19.52% done (259/1332 completed)\n",
      "20.27% done (269/1332 completed)\n",
      "21.02% done (279/1332 completed)\n",
      "21.77% done (289/1332 completed)\n",
      "22.52% done (299/1332 completed)\n",
      "23.27% done (309/1332 completed)\n",
      "24.02% done (319/1332 completed)\n",
      "24.77% done (329/1332 completed)\n",
      "25.53% done (339/1332 completed)\n",
      "26.28% done (349/1332 completed)\n",
      "27.03% done (359/1332 completed)\n",
      "27.78% done (369/1332 completed)\n",
      "28.53% done (379/1332 completed)\n",
      "29.28% done (389/1332 completed)\n",
      "30.03% done (399/1332 completed)\n",
      "30.78% done (409/1332 completed)\n",
      "31.53% done (419/1332 completed)\n",
      "32.28% done (429/1332 completed)\n",
      "33.03% done (439/1332 completed)\n",
      "33.78% done (449/1332 completed)\n",
      "34.53% done (459/1332 completed)\n",
      "35.29% done (469/1332 completed)\n",
      "36.04% done (479/1332 completed)\n",
      "36.79% done (489/1332 completed)\n",
      "37.54% done (499/1332 completed)\n",
      "38.29% done (509/1332 completed)\n",
      "39.04% done (519/1332 completed)\n",
      "39.79% done (529/1332 completed)\n",
      "40.54% done (539/1332 completed)\n",
      "41.29% done (549/1332 completed)\n",
      "42.04% done (559/1332 completed)\n",
      "42.79% done (569/1332 completed)\n",
      "43.54% done (579/1332 completed)\n",
      "44.29% done (589/1332 completed)\n",
      "45.05% done (599/1332 completed)\n",
      "45.8% done (609/1332 completed)\n",
      "46.55% done (619/1332 completed)\n",
      "47.3% done (629/1332 completed)\n",
      "48.05% done (639/1332 completed)\n",
      "48.8% done (649/1332 completed)\n",
      "49.55% done (659/1332 completed)\n",
      "50.3% done (669/1332 completed)\n",
      "51.05% done (679/1332 completed)\n",
      "51.8% done (689/1332 completed)\n",
      "52.55% done (699/1332 completed)\n",
      "53.3% done (709/1332 completed)\n",
      "54.05% done (719/1332 completed)\n",
      "54.8% done (729/1332 completed)\n",
      "55.56% done (739/1332 completed)\n",
      "56.31% done (749/1332 completed)\n",
      "57.06% done (759/1332 completed)\n",
      "57.81% done (769/1332 completed)\n",
      "58.56% done (779/1332 completed)\n",
      "59.31% done (789/1332 completed)\n",
      "60.06% done (799/1332 completed)\n",
      "60.81% done (809/1332 completed)\n",
      "61.56% done (819/1332 completed)\n",
      "62.31% done (829/1332 completed)\n",
      "63.06% done (839/1332 completed)\n",
      "63.81% done (849/1332 completed)\n",
      "64.56% done (859/1332 completed)\n",
      "65.32% done (869/1332 completed)\n",
      "66.07% done (879/1332 completed)\n",
      "66.82% done (889/1332 completed)\n",
      "67.57% done (899/1332 completed)\n",
      "68.32% done (909/1332 completed)\n",
      "69.07% done (919/1332 completed)\n",
      "69.82% done (929/1332 completed)\n",
      "70.57% done (939/1332 completed)\n",
      "71.32% done (949/1332 completed)\n",
      "72.07% done (959/1332 completed)\n",
      "72.82% done (969/1332 completed)\n",
      "73.57% done (979/1332 completed)\n",
      "74.32% done (989/1332 completed)\n",
      "75.08% done (999/1332 completed)\n",
      "75.83% done (1009/1332 completed)\n",
      "76.58% done (1019/1332 completed)\n",
      "77.33% done (1029/1332 completed)\n",
      "78.08% done (1039/1332 completed)\n",
      "78.83% done (1049/1332 completed)\n",
      "79.58% done (1059/1332 completed)\n",
      "80.33% done (1069/1332 completed)\n",
      "81.08% done (1079/1332 completed)\n",
      "81.83% done (1089/1332 completed)\n",
      "82.58% done (1099/1332 completed)\n",
      "83.33% done (1109/1332 completed)\n",
      "84.08% done (1119/1332 completed)\n",
      "84.83% done (1129/1332 completed)\n",
      "85.59% done (1139/1332 completed)\n",
      "86.34% done (1149/1332 completed)\n",
      "87.09% done (1159/1332 completed)\n",
      "87.84% done (1169/1332 completed)\n",
      "88.59% done (1179/1332 completed)\n",
      "89.34% done (1189/1332 completed)\n",
      "90.09% done (1199/1332 completed)\n",
      "90.84% done (1209/1332 completed)\n",
      "91.59% done (1219/1332 completed)\n",
      "92.34% done (1229/1332 completed)\n",
      "93.09% done (1239/1332 completed)\n",
      "93.84% done (1249/1332 completed)\n",
      "94.59% done (1259/1332 completed)\n",
      "95.35% done (1269/1332 completed)\n",
      "96.1% done (1279/1332 completed)\n",
      "96.85% done (1289/1332 completed)\n",
      "97.6% done (1299/1332 completed)\n",
      "98.35% done (1309/1332 completed)\n",
      "99.1% done (1319/1332 completed)\n",
      "99.85% done (1329/1332 completed)\n",
      "Closing threadpool\n",
      "Derotating Images...\n",
      "Writing Images to directory /home/rboyden/arizona/coursework/ast502/final_project/Ast-502-final-project/ryan_example_output_data\n"
     ]
    }
   ],
   "source": [
    "## from pyklip.examples.BasicKLIPTutorial \n",
    "## do the KLIP algorithm\n",
    "\n",
    "outputdir = \"ryan_example_output_data\" # save files here\n",
    "prefix = \"pyklip-betpic-j-131210-k100a9s4m1\" # a file prefix to summarize this reduction\n",
    "\n",
    "parallelized.klip_dataset(dataset, outputdir=outputdir, fileprefix=prefix,\n",
    "                          annuli=9, subsections=4, movement=1, numbasis=[1,20,50,100],\n",
    "                          calibrate_flux=True, mode=\"ADI+SDI\")"
   ]
  },
  {
   "cell_type": "code",
   "execution_count": 3,
   "metadata": {
    "slideshow": {
     "slide_type": "slide"
    }
   },
   "outputs": [
    {
     "name": "stdout",
     "output_type": "stream",
     "text": [
      "The dimensions of this datacube is (4, 281, 281)\n"
     ]
    },
    {
     "data": {
      "application/vnd.jupyter.widget-view+json": {
       "model_id": "92db988e3a944b4a8bc704f8c05f4904"
      }
     },
     "metadata": {},
     "output_type": "display_data"
    },
    {
     "data": {
      "text/plain": [
       "<function __main__.pltcube>"
      ]
     },
     "execution_count": 3,
     "metadata": {},
     "output_type": "execute_result"
    }
   ],
   "source": [
    "## Let's see what are results look like \n",
    "##showing the continuum for different KL modes:\n",
    "outputdir = \"ryan_example_output_data\" # save files here\n",
    "prefix = \"pyklip-betpic-j-131210-k100a9s4m1\"\n",
    "\n",
    "kl_hdulist = fits.open(\"{out}/{pre}-KLmodes-all.fits\".format(out=outputdir, pre=prefix))\n",
    "klcube = kl_hdulist[1].data\n",
    "klheader = kl_hdulist[1].header\n",
    "print(\"The dimensions of this datacube is {0}\".format(klcube.shape))\n",
    "\n",
    "# reconstruct the KL Mode cutoff axis from the header. \n",
    "num_cutoffs = klcube.shape[0] # number of KL mode cutoffs saved\n",
    "kl_cutoffs = [klheader['KLMODE{0}'.format(cutoff_i)] for cutoff_i in range(num_cutoffs) ] # grab all the KL mode cutoffs from the header\n",
    "\n",
    "def pltcube(selected_kl_index):\n",
    "    \"\"\"\n",
    "    Function to refresh the plot with the frame from the selected_kl_index\n",
    "    \n",
    "    Args:\n",
    "        selected_wv: the datacube index selected by the widget\n",
    "    \"\"\"\n",
    "    plt.figure(figsize=(8,8))\n",
    "    plt.imshow(klcube[selected_kl_index], cmap='viridis', vmin=-5e-7, vmax=1e-5)\n",
    "    plt.gca().invert_yaxis() # flip the y axis so that [0,0] is in the bottom left corner. \n",
    "    plt.title(\"{0} KL Modes\".format(kl_cutoffs[selected_kl_index]), fontsize=20)\n",
    "    plt.show()\n",
    "    \n",
    "widgets.interact(pltcube, selected_kl_index=(0, num_cutoffs-1, 1))\n"
   ]
  },
  {
   "cell_type": "code",
   "execution_count": 4,
   "metadata": {
    "slideshow": {
     "slide_type": "slide"
    }
   },
   "outputs": [
    {
     "name": "stdout",
     "output_type": "stream",
     "text": [
      "The dimensions of this datacube is (37, 281, 281)\n"
     ]
    },
    {
     "data": {
      "application/vnd.jupyter.widget-view+json": {
       "model_id": "3968b63ad5854126885ee35facf79b6a"
      }
     },
     "metadata": {},
     "output_type": "display_data"
    },
    {
     "data": {
      "text/plain": [
       "<function __main__.pltcube>"
      ]
     },
     "execution_count": 4,
     "metadata": {},
     "output_type": "execute_result"
    }
   ],
   "source": [
    "## to look at one spectral cube\n",
    "\n",
    "# Read in the data and grab the data from the HDU card in index 1\n",
    "spec_hdulist = fits.open(\"{out}/{pre}-KL20-speccube.fits\".format(out=outputdir, pre=prefix))\n",
    "speccube_kl20 = spec_hdulist[1].data\n",
    "specheader_kl20 = spec_hdulist[1].header\n",
    "print(\"The dimensions of this datacube is {0}\".format(speccube_kl20.shape))\n",
    "\n",
    "# reconstruct the wavelength axis from the header. \n",
    "# We aren't using dataset.wavelength because to plot the widget plot below, we need a linear wavelenght solution\n",
    "cube_wvs_step = specheader_kl20['CD3_3'] # \\Delta \\lambda for each wavelength slice of the cube\n",
    "cube_wvs_min = specheader_kl20['CRVAL3'] # wavelength of slice 0 of the spectral cube\n",
    "cube_wvs = cube_wvs_min + np.arange(speccube_kl20.shape[0]) * cube_wvs_step #construct the wavelength axis\n",
    "cube_wvs_max = cube_wvs[-1] # wavelength of last slice of the spectral cube\n",
    "\n",
    "\n",
    "def pltcube(selected_wv):\n",
    "    \"\"\"\n",
    "    Function to refresh the plot with the frame from the selected_wv\n",
    "    \n",
    "    Args:\n",
    "        selected_wv: the wavelength selected by the interactive slider bar widget\n",
    "    \"\"\"\n",
    "    wv_index = np.argmin(np.abs(selected_wv - cube_wvs)) # get the index into the array corresponding to the wavelength\n",
    "    plt.figure(figsize=(8,8)) # create the plot. Make it big\n",
    "    plt.imshow(speccube_kl20[wv_index], cmap='viridis', vmin=-5e-7, vmax=1e-5) # plot the image\n",
    "    plt.gca().invert_yaxis() # flip the y axis so that [0,0] is in the bottom left corner. \n",
    "    plt.title(\"{0:.3f} microns\".format(selected_wv), fontsize=20)\n",
    "    plt.show()\n",
    "    \n",
    "# run the interactive widget\n",
    "widgets.interact(pltcube, selected_wv=(cube_wvs_min, cube_wvs_max, cube_wvs_step))"
   ]
  },
  {
   "cell_type": "code",
   "execution_count": 5,
   "metadata": {
    "slideshow": {
     "slide_type": "slide"
    }
   },
   "outputs": [
    {
     "data": {
      "application/vnd.jupyter.widget-view+json": {
       "model_id": "d97cd9cde3b84f6995286b1b87967c64"
      }
     },
     "metadata": {},
     "output_type": "display_data"
    },
    {
     "data": {
      "text/plain": [
       "<function __main__.plt_preprocessed_cube>"
      ]
     },
     "execution_count": 5,
     "metadata": {},
     "output_type": "execute_result"
    }
   ],
   "source": [
    "##before and after for different modes\n",
    "\n",
    "preprocessed_data = fits.getdata('pyklip/tests/data/S20131210S0092_spdc_distorcorr.fits')\n",
    "\n",
    "start = 0\n",
    "N_steps = preprocessed_data.shape[0]\n",
    "\n",
    "\n",
    "def plt_preprocessed_cube(index):\n",
    "    \"\"\"\n",
    "    Function to refresh the plot with the frame from the selected_wv\n",
    "    \n",
    "    Args:\n",
    "        selected_wv: the wavelength selected by the interactive slider bar widget\n",
    "    \"\"\"\n",
    "    plt.figure(figsize=(8,8)) # create the plot. Make it big\n",
    "    plt.imshow(preprocessed_data[index, :, :], cmap='viridis', vmin =np.nanmin(preprocessed_data),\n",
    "                                        vmax=np.nanmax(preprocessed_data)) # plot the image\n",
    "    #plt.gca().invert_yaxis() # flip the y axis so that [0,0] is in the bottom left corner. \n",
    "    plt.show()\n",
    "\n",
    "\n",
    "widgets.interact(plt_preprocessed_cube, index=(0, 36, 4))"
   ]
  },
  {
   "cell_type": "markdown",
   "metadata": {},
   "source": [
    "## Applying other dimensionality reduction algorithms to Gemini Planet Imager data\n",
    "\n",
    "Another algorithm, named Localized Optimized Combination of Images (LOCI, see Lafreniere et al. 2007) has been frequently used in high-contrast imaging.\n",
    "\n",
    "In our course, we have also talked about Non-negative Matrix Factorization (NMF) and Independent Component Analysis (ICA). How do they work on high-contrast imaging?\n",
    "\n",
    "The number of papers found about each method about PSF modelling:\n",
    "![klip](myue_figures/KLIP.png)\n",
    "![loci](myue_figures/LOCI.png)\n",
    "![pca](myue_figures/PCA.png)\n",
    "![ica](myue_figures/ICA.png)\n",
    "![nmf](myue_figures/NMF.png)\n",
    "\n",
    "### Localized Optimized Combination of Images (LOCI)\n",
    "\n",
    "Males (2017, in prep.) showed that LOCI is equivalent to PCA where all components are used.\n",
    "\n",
    "In LOCI, the image is divided smaller regions. This can also be done when applying PCA.\n",
    "\n",
    "![lociarea](myue_figures/LOCI_subsection.png)\n",
    "\n",
    "*(The figure is adapted from Lafreniere et al. 2007)*\n",
    "\n",
    "### A Quick Look at the Output of ICA and NMF\n",
    "\n",
    "We will need SWarp (https://www.astromatic.net/software/swarp) in the data reduction. The installation is a bit annoying... You can skip the next cell if you want (the results are shown later as png images)."
   ]
  },
  {
   "cell_type": "markdown",
   "metadata": {},
   "source": [
    "### Read the data"
   ]
  },
  {
   "cell_type": "code",
   "execution_count": 3,
   "metadata": {},
   "outputs": [
    {
     "name": "stdout",
     "output_type": "stream",
     "text": [
      "Reading File: /Users/jdl/Dropbox/school/data_mining/Ast-502-final-project/betaPic_J_131210/S20131210S0105_spdc_distorcorr.fits.gz\n",
      "Reading File: /Users/jdl/Dropbox/school/data_mining/Ast-502-final-project/betaPic_J_131210/S20131210S0094_spdc_distorcorr.fits.gz\n",
      "Reading File: /Users/jdl/Dropbox/school/data_mining/Ast-502-final-project/betaPic_J_131210/S20131210S0102_spdc_distorcorr.fits.gz\n",
      "Reading File: /Users/jdl/Dropbox/school/data_mining/Ast-502-final-project/betaPic_J_131210/S20131210S0111_spdc_distorcorr.fits.gz\n",
      "Reading File: /Users/jdl/Dropbox/school/data_mining/Ast-502-final-project/betaPic_J_131210/S20131210S0098_spdc_distorcorr.fits.gz\n",
      "Reading File: /Users/jdl/Dropbox/school/data_mining/Ast-502-final-project/betaPic_J_131210/S20131210S0097_spdc_distorcorr.fits.gz\n",
      "Reading File: /Users/jdl/Dropbox/school/data_mining/Ast-502-final-project/betaPic_J_131210/S20131210S0106_spdc_distorcorr.fits.gz\n",
      "Reading File: /Users/jdl/Dropbox/school/data_mining/Ast-502-final-project/betaPic_J_131210/S20131210S0109_spdc_distorcorr.fits.gz\n",
      "Reading File: /Users/jdl/Dropbox/school/data_mining/Ast-502-final-project/betaPic_J_131210/S20131210S0093_spdc_distorcorr.fits.gz\n",
      "Reading File: /Users/jdl/Dropbox/school/data_mining/Ast-502-final-project/betaPic_J_131210/S20131210S0100_spdc_distorcorr.fits.gz\n",
      "Reading File: /Users/jdl/Dropbox/school/data_mining/Ast-502-final-project/betaPic_J_131210/S20131210S0095_spdc_distorcorr.fits.gz\n",
      "Reading File: /Users/jdl/Dropbox/school/data_mining/Ast-502-final-project/betaPic_J_131210/S20131210S0104_spdc_distorcorr.fits.gz\n",
      "Reading File: /Users/jdl/Dropbox/school/data_mining/Ast-502-final-project/betaPic_J_131210/S20131210S0092_spdc_distorcorr.fits.gz\n",
      "Reading File: /Users/jdl/Dropbox/school/data_mining/Ast-502-final-project/betaPic_J_131210/S20131210S0108_spdc_distorcorr.fits.gz\n",
      "Reading File: /Users/jdl/Dropbox/school/data_mining/Ast-502-final-project/betaPic_J_131210/S20131210S0107_spdc_distorcorr.fits.gz\n",
      "Reading File: /Users/jdl/Dropbox/school/data_mining/Ast-502-final-project/betaPic_J_131210/S20131210S0096_spdc_distorcorr.fits.gz\n",
      "Reading File: /Users/jdl/Dropbox/school/data_mining/Ast-502-final-project/betaPic_J_131210/S20131210S0099_spdc_distorcorr.fits.gz\n",
      "Reading File: /Users/jdl/Dropbox/school/data_mining/Ast-502-final-project/betaPic_J_131210/S20131210S0110_spdc_distorcorr.fits.gz\n",
      "Reading File: /Users/jdl/Dropbox/school/data_mining/Ast-502-final-project/betaPic_J_131210/S20131210S0103_spdc_distorcorr.fits.gz\n"
     ]
    }
   ],
   "source": [
    "import os\n",
    "import numpy as np\n",
    "from scipy.optimize import minimize\n",
    "from astropy.io import fits\n",
    "import matplotlib.pyplot as plt\n",
    "import glob\n",
    "import pyklip.instruments.GPI as GPI\n",
    "\n",
    "from sklearn.decomposition import NMF\n",
    "from sklearn.decomposition import FastICA\n",
    "from sklearn.decomposition import RandomizedPCA\n",
    "\n",
    "cwd=os.getcwd()\n",
    "data_dir=cwd+'/betaPic_J_131210'\n",
    "\n",
    "filelist = glob.glob(data_dir+\"/*.fits.gz\")\n",
    "dataset = GPI.GPIData(filelist, highpass=True)"
   ]
  },
  {
   "cell_type": "markdown",
   "metadata": {},
   "source": [
    "### Preparing the data"
   ]
  },
  {
   "cell_type": "code",
   "execution_count": 5,
   "metadata": {
    "collapsed": true
   },
   "outputs": [],
   "source": [
    "imagelist = []\n",
    "imagecube = dataset.input[1::37]\n",
    "size = imagecube[0].size\n",
    "\n",
    "for index in range(len(imagecube)):\n",
    "    imagelist.append(imagecube[index].reshape(size))\n",
    "\n",
    "imagelist = np.array(imagelist).T\n",
    "imagelist[~np.isfinite(imagelist)] = 0\n",
    "\n",
    "imagelist_nmf = imagelist.copy()\n",
    "imagelist_nmf[imagelist_nmf < 0] = 0"
   ]
  },
  {
   "cell_type": "markdown",
   "metadata": {},
   "source": [
    "### Run the algorithms\n",
    "\n",
    "We are using the same number of components for each algorithm for comparison. In practice, the number of components would be a parameter you could vary for the reduction."
   ]
  },
  {
   "cell_type": "code",
   "execution_count": 23,
   "metadata": {},
   "outputs": [
    {
     "name": "stderr",
     "output_type": "stream",
     "text": [
      "/Users/jdl/miniconda2/envs/work/lib/python3.6/site-packages/sklearn/utils/deprecation.py:52: DeprecationWarning: Class RandomizedPCA is deprecated; RandomizedPCA was deprecated in 0.18 and will be removed in 0.20. Use PCA(svd_solver='randomized') instead. The new implementation DOES NOT store whiten ``components_``. Apply transform to get them.\n",
      "  warnings.warn(msg, category=DeprecationWarning)\n"
     ]
    }
   ],
   "source": [
    "ica = FastICA(n_components=5)\n",
    "pca = RandomizedPCA(n_components=5)\n",
    "nmf = NMF(n_components=5)\n",
    "\n",
    "ica_model = ica.fit(imagelist)\n",
    "pca_model = pca.fit(imagelist)\n",
    "nmf_model = nmf.fit(imagelist_nmf)\n",
    "\n",
    "ica_result = ica.transform(imagelist)\n",
    "pca_result = pca.transform(imagelist)\n",
    "nmf_result = nmf.transform(imagelist_nmf)"
   ]
  },
  {
   "cell_type": "code",
   "execution_count": 24,
   "metadata": {
    "collapsed": true
   },
   "outputs": [],
   "source": [
    "def nmf_residual(coeff,component,image):\n",
    "    return np.sum((np.dot(coeff,component)-image)**2)\n",
    "\n",
    "def show_results(datacube=imagecube, method='pca', n_components=10):\n",
    "    filenamelist = []\n",
    "    fitmodel_dict = {'pca': pca_model,\n",
    "                    'ica': ica_model,\n",
    "                    'nmf': nmf_model}\n",
    "    \n",
    "    fitdata_dict = {'pca': pca_result,\n",
    "                    'ica': ica_result,\n",
    "                    'nmf': nmf_result}\n",
    "\n",
    "    fitdata = fitdata_dict[method]\n",
    "    fitmodel = fitmodel_dict[method]\n",
    "    for raw_index in range(len(imagecube)):\n",
    "        i = 0\n",
    "        raw_image = imagecube[raw_index]\n",
    "        raw_image[np.isnan(raw_image)] = 0\n",
    "        if method in ['pca','ica']:\n",
    "            raw_image = raw_image - np.mean(raw_image)\n",
    "\n",
    "        raw_row = raw_image.reshape(raw_image.size)\n",
    "        \n",
    "        fitdata_truncated=fitdata.T[:n_components]\n",
    "        if method == 'nmf':\n",
    "            ### nmf requires non-negative coefficients, so the code here is a bit different ###\n",
    "            fitdata_coeff_init = np.linalg.lstsq(np.transpose(fitdata_truncated), np.transpose(raw_row))[0]\n",
    "            res = minimize(nmf_residual, x0=fitdata_coeff_init, args=(fitdata_truncated,raw_row),\n",
    "                           method='SLSQP', bounds=[(0,None)] * n_components)\n",
    "            fitdata_coeff = res.x\n",
    "            fitdata_coeff = np.transpose(fitdata_coeff)\n",
    "        else:\n",
    "            fitdata_coeff = np.linalg.lstsq(np.transpose(fitdata_truncated),np.transpose(raw_row))[0]\n",
    "        fitdata_reconstruct = np.transpose(np.dot(np.transpose(fitdata_truncated),fitdata_coeff))\n",
    "        fitdata_reconstruct = fitdata_reconstruct.reshape(raw_image.shape)\n",
    "        fitsdata = fits.open(dataset.filenames[raw_index * 37 + 1])\n",
    "        fitsdata[1].data = raw_image - fitdata_reconstruct\n",
    "        if os.path.exists(data_dir+'/save/tmp'+str(raw_index)+'.fits'):\n",
    "            os.system('rm '+data_dir+'/save/tmp'+str(raw_index)+'.fits')\n",
    "        fitsdata.writeto(data_dir+'/save/tmp'+str(raw_index)+'.fits')\n",
    "        filenamelist.append(data_dir+'/save/tmp'+str(raw_index)+'.fits')\n",
    "        \n",
    "    np.savetxt('swarp_input', filenamelist, fmt='%s')\n",
    "    command = 'swarp @swarp_input -IMAGEOUT_NAME ./coadd'+method+str(n_components)+'.fits'\n",
    "    print(command)\n",
    "    os.system(command)\n",
    "    return 'coadd'+method+str(n_components)+'.fits'"
   ]
  },
  {
   "cell_type": "code",
   "execution_count": 25,
   "metadata": {},
   "outputs": [
    {
     "name": "stdout",
     "output_type": "stream",
     "text": [
      "swarp @swarp_input -IMAGEOUT_NAME ./coaddica5.fits\n",
      "swarp @swarp_input -IMAGEOUT_NAME ./coaddpca5.fits\n",
      "swarp @swarp_input -IMAGEOUT_NAME ./coaddnmf5.fits\n"
     ]
    },
    {
     "data": {
      "text/plain": [
       "'coaddnmf5.fits'"
      ]
     },
     "execution_count": 25,
     "metadata": {},
     "output_type": "execute_result"
    }
   ],
   "source": [
    "show_results(method='ica', n_components=5)\n",
    "show_results(method='pca', n_components=5)\n",
    "show_results(method='nmf', n_components=5)"
   ]
  },
  {
   "cell_type": "code",
   "execution_count": 26,
   "metadata": {
    "collapsed": true
   },
   "outputs": [],
   "source": [
    "ica_coadd = fits.getdata('./coaddica5.fits')\n",
    "nmf_coadd = fits.getdata('./coaddnmf5.fits')\n",
    "pca_coadd = fits.getdata('./coaddpca5.fits')\n",
    "min_percentile, max_percentile = 5, 95\n",
    "vmin = min(\n",
    "    np.percentile(ica_coadd, min_percentile),\n",
    "    np.percentile(nmf_coadd, min_percentile),\n",
    "    np.percentile(pca_coadd, min_percentile)\n",
    ")\n",
    "vmax = max(\n",
    "    np.percentile(ica_coadd, max_percentile),\n",
    "    np.percentile(nmf_coadd, max_percentile),\n",
    "    np.percentile(pca_coadd, max_percentile)\n",
    ")"
   ]
  },
  {
   "cell_type": "code",
   "execution_count": 28,
   "metadata": {},
   "outputs": [
    {
     "data": {
      "text/plain": [
       "<matplotlib.image.AxesImage at 0x1157c0be0>"
      ]
     },
     "execution_count": 28,
     "metadata": {},
     "output_type": "execute_result"
    },
    {
     "data": {
      "image/png": "[encoded data removed]",
      "text/plain": [
       "<matplotlib.figure.Figure at 0x1182bc940>"
      ]
     },
     "metadata": {},
     "output_type": "display_data"
    }
   ],
   "source": [
    "plt.figure(figsize=(14, 5))\n",
    "plt.subplot(1,3,1)\n",
    "plt.title('ICA')\n",
    "plt.imshow(ica_coadd, vmin=vmin, vmax=vmax)\n",
    "plt.subplot(1,3,2)\n",
    "plt.title('NMF')\n",
    "plt.imshow(nmf_coadd, vmin=vmin, vmax=vmax)\n",
    "plt.subplot(1,3,3)\n",
    "plt.title('PCA')\n",
    "plt.imshow(pca_coadd, vmin=vmin, vmax=vmax)"
   ]
  },
  {
   "cell_type": "markdown",
   "metadata": {},
   "source": [
    "### Independent Component Analysis (ICA)\n",
    "\n",
    "Recall that ICA decompose the signal to several statistically irrelavant components (the cocktail party problem).\n",
    "\n",
    "How can we intepret this process in PSF modelling?\n",
    "... I do not know.\n",
    "\n",
    "### Nonnegative Matrix Factorization (NMF)\n",
    "\n",
    "NMF tries to decompose the signal into several non-negative parts. It is useful when intepreting a signal that is a combination of some non-negative parts.\n",
    "\n",
    "It is not difficult to intepret NMF in PSF modeling, since PSF can be regarded as a combination of several patterns (for examples, rings of an Airy pattern).\n",
    "\n",
    "However, when we are trying to MODEL the shape of a PSF, rather than EXPLAIN why the PSF looks like this, NMF is less straightforward than PCA."
   ]
  },
  {
   "cell_type": "markdown",
   "metadata": {},
   "source": [
    "## Summary\n",
    "\n",
    "ICA has comparable performance to PCA, but how do we interpret this?\n",
    "\n",
    "NMF makes strong assumptions about the nature of the components found (e.g. strictly additive contributions). We might be able to interpret the poor performance in the context of flux conservation and PSF speckles' physical nature: a speckle is an interference maximum, so there is a corresponding minimum elsewhere."
   ]
  },
  {
   "cell_type": "markdown",
   "metadata": {
    "slideshow": {
     "slide_type": "slide"
    }
   },
   "source": [
    "## Conclusions\n",
    "- PCA is a widely used dimensionality reduction technique \n",
    "- Exoplanet researchers often use PCA to remove the stellar PSF from coronagraphed images, which allows for direct imaging of exoplanets and debris disks\n",
    "- Common PCA algorithms in high-contrast imaging: KLIP (pyKLIP), LOCI, etc."
   ]
  },
  {
   "cell_type": "markdown",
   "metadata": {},
   "source": [
    "# If you need any slides from the PCA mining lecture just let me kno"
   ]
  }
 ],
 "metadata": {
  "celltoolbar": "Slideshow",
  "kernelspec": {
   "display_name": "Python 2",
   "language": "python",
   "name": "python2"
  },
  "language_info": {
   "codemirror_mode": {
    "name": "ipython",
    "version": 3
   },
   "file_extension": ".py",
   "mimetype": "text/x-python",
   "name": "python",
   "nbconvert_exporter": "python",
   "pygments_lexer": "ipython3",
   "version": "3.6.2"
  }
 },
 "nbformat": 4,
 "nbformat_minor": 2
}
