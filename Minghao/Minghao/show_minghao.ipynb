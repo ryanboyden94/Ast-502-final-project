{
 "cells": [
  {
   "cell_type": "markdown",
   "metadata": {
    "slideshow": {
     "slide_type": "slide"
    }
   },
   "source": [
    "## Other Algorisms: LOCI, NMF, ICA\n",
    "\n",
    "Another algorism, named Localized Optimized Combination of Images (LOCI, see Lafreniere et al. 2007) has been frequently used in high-contrast imaging.\n",
    "\n",
    "In our course, we have also talked about the Nonnegative Matrix Factorization (NMF) and the Independent Component Analysis (ICA). How do they work on the high-contrast imaging?"
   ]
  },
  {
   "cell_type": "markdown",
   "metadata": {
    "slideshow": {
     "slide_type": "slide"
    }
   },
   "source": [
    "The number of papers found about each method about PSF modelling:\n",
    "![klip](KLIP.png)\n",
    "![loci](LOCI.png)\n",
    "![pca](PCA.png)\n",
    "![ica](ICA.png)\n",
    "![nmf](NMF.png)"
   ]
  },
  {
   "cell_type": "markdown",
   "metadata": {
    "slideshow": {
     "slide_type": "slide"
    }
   },
   "source": [
    "### Localized Optimized Combination of Images (LOCI)\n",
    "\n",
    "Males (2017) showed that LOCI is equivalent to PCA where all components are used.\n",
    "\n",
    "In LOCI, the image is divided into pieces of areas. This can also be done when applying PCA.\n",
    "\n",
    "(The figure is adopted from Lafreniere et al. 2007)\n",
    "![lociarea](LOCI_subsection.png)"
   ]
  },
  {
   "cell_type": "markdown",
   "metadata": {
    "slideshow": {
     "slide_type": "slide"
    }
   },
   "source": [
    "### A Quick Look at the Output of ICA and NMF\n",
    "\n",
    "We will need SWarp (https://www.astromatic.net/software/swarp) in the data reduction. The installation is a bit annoying... You can skip the next cell if you want (the results are shown later as png images)."
   ]
  },
  {
   "cell_type": "code",
   "execution_count": 1,
   "metadata": {
    "slideshow": {
     "slide_type": "slide"
    }
   },
   "outputs": [
    {
     "name": "stdout",
     "output_type": "stream",
     "text": [
      "Reading File: /home/ymh/astr502/finalproject/Ast-502-final-project/betaPic_J_131210/S20131210S0106_spdc_distorcorr.fits.gz\n",
      "Reading File: /home/ymh/astr502/finalproject/Ast-502-final-project/betaPic_J_131210/S20131210S0105_spdc_distorcorr.fits.gz\n",
      "Reading File: /home/ymh/astr502/finalproject/Ast-502-final-project/betaPic_J_131210/S20131210S0097_spdc_distorcorr.fits.gz\n",
      "Reading File: /home/ymh/astr502/finalproject/Ast-502-final-project/betaPic_J_131210/S20131210S0094_spdc_distorcorr.fits.gz\n",
      "Reading File: /home/ymh/astr502/finalproject/Ast-502-final-project/betaPic_J_131210/S20131210S0099_spdc_distorcorr.fits.gz\n",
      "Reading File: /home/ymh/astr502/finalproject/Ast-502-final-project/betaPic_J_131210/S20131210S0107_spdc_distorcorr.fits.gz\n",
      "Reading File: /home/ymh/astr502/finalproject/Ast-502-final-project/betaPic_J_131210/S20131210S0098_spdc_distorcorr.fits.gz\n",
      "Reading File: /home/ymh/astr502/finalproject/Ast-502-final-project/betaPic_J_131210/S20131210S0111_spdc_distorcorr.fits.gz\n",
      "Reading File: /home/ymh/astr502/finalproject/Ast-502-final-project/betaPic_J_131210/S20131210S0092_spdc_distorcorr.fits.gz\n",
      "Reading File: /home/ymh/astr502/finalproject/Ast-502-final-project/betaPic_J_131210/S20131210S0104_spdc_distorcorr.fits.gz\n",
      "Reading File: /home/ymh/astr502/finalproject/Ast-502-final-project/betaPic_J_131210/S20131210S0095_spdc_distorcorr.fits.gz\n",
      "Reading File: /home/ymh/astr502/finalproject/Ast-502-final-project/betaPic_J_131210/S20131210S0100_spdc_distorcorr.fits.gz\n",
      "Reading File: /home/ymh/astr502/finalproject/Ast-502-final-project/betaPic_J_131210/S20131210S0096_spdc_distorcorr.fits.gz\n",
      "Reading File: /home/ymh/astr502/finalproject/Ast-502-final-project/betaPic_J_131210/S20131210S0110_spdc_distorcorr.fits.gz\n",
      "Reading File: /home/ymh/astr502/finalproject/Ast-502-final-project/betaPic_J_131210/S20131210S0102_spdc_distorcorr.fits.gz\n",
      "Reading File: /home/ymh/astr502/finalproject/Ast-502-final-project/betaPic_J_131210/S20131210S0108_spdc_distorcorr.fits.gz\n",
      "Reading File: /home/ymh/astr502/finalproject/Ast-502-final-project/betaPic_J_131210/S20131210S0103_spdc_distorcorr.fits.gz\n",
      "Reading File: /home/ymh/astr502/finalproject/Ast-502-final-project/betaPic_J_131210/S20131210S0109_spdc_distorcorr.fits.gz\n",
      "Reading File: /home/ymh/astr502/finalproject/Ast-502-final-project/betaPic_J_131210/S20131210S0093_spdc_distorcorr.fits.gz\n"
     ]
    }
   ],
   "source": [
    "### Read the data ###\n",
    "\n",
    "import os\n",
    "import numpy as np\n",
    "from scipy.optimize import minimize\n",
    "from astropy.io import fits\n",
    "import matplotlib.pyplot as plt\n",
    "import glob\n",
    "import pyklip.instruments.GPI as GPI\n",
    "\n",
    "from sklearn.decomposition import NMF\n",
    "from sklearn.decomposition import FastICA\n",
    "from sklearn.decomposition import RandomizedPCA\n",
    "\n",
    "cwd=os.getcwd()\n",
    "#data_dir=cwd+'/../HD10647_J_131117'\n",
    "data_dir=cwd+'/betaPic_J_131210'\n",
    "\n",
    "filelist = glob.glob(data_dir+\"/*.fits.gz\")\n",
    "dataset = GPI.GPIData(filelist, highpass=True)"
   ]
  },
  {
   "cell_type": "code",
   "execution_count": 2,
   "metadata": {
    "collapsed": true
   },
   "outputs": [],
   "source": [
    "### Preparing the data ###\n",
    "\n",
    "imagelist=[]\n",
    "imagecube=dataset.input[1::37]\n",
    "size=imagecube[0].size\n",
    "for index in range(len(imagecube)):\n",
    "    imagelist.append(imagecube[index].reshape(size))\n",
    "imagelist=np.array(imagelist).T\n",
    "imagelist[np.isnan(imagelist)]=0\n",
    "imagelist[np.isinf(imagelist)]=0\n",
    "imagelist_nmf=imagelist.copy()\n",
    "imagelist_nmf[imagelist_nmf<0]=0\n"
   ]
  },
  {
   "cell_type": "code",
   "execution_count": 21,
   "metadata": {},
   "outputs": [
    {
     "name": "stderr",
     "output_type": "stream",
     "text": [
      "/home/ymh/anaconda2/lib/python2.7/site-packages/sklearn/utils/deprecation.py:52: DeprecationWarning: Class RandomizedPCA is deprecated; RandomizedPCA was deprecated in 0.18 and will be removed in 0.20. Use PCA(svd_solver='randomized') instead. The new implementation DOES NOT store whiten ``components_``. Apply transform to get them.\n",
      "  warnings.warn(msg, category=DeprecationWarning)\n"
     ]
    }
   ],
   "source": [
    "### Run the algorisms ###\n",
    "\n",
    "ica = FastICA(n_components=10)\n",
    "pca=RandomizedPCA(n_components=10)\n",
    "nmf=NMF(n_components=10)\n",
    "\n",
    "ica_model=ica.fit(imagelist)\n",
    "pca_model=pca.fit(imagelist)\n",
    "nmf_model=nmf.fit(imagelist_nmf)\n",
    "\n",
    "ica_result=ica.transform(imagelist)\n",
    "pca_result=pca.transform(imagelist)\n",
    "nmf_result=nmf.transform(imagelist_nmf)"
   ]
  },
  {
   "cell_type": "code",
   "execution_count": 22,
   "metadata": {
    "collapsed": true
   },
   "outputs": [],
   "source": [
    "def nmf_residual(coeff,component,image):\n",
    "    return np.sum((np.dot(coeff,component)-image)**2)\n",
    "\n",
    "\n",
    "def show_results(datacube=imagecube, method='pca', n_components=10):\n",
    "\n",
    "    filenamelist=[]\n",
    "\n",
    "    #print dataset.filenames[::37]\n",
    "    fitmodel_dict={'pca':pca_model,\\\n",
    "                     'ica':ica_model,\\\n",
    "                     'nmf':nmf_model}\n",
    "    \n",
    "    fitdata_dict={'pca':pca_result,\\\n",
    "                     'ica':ica_result,\\\n",
    "                     'nmf':nmf_result}\n",
    "\n",
    "    fitdata=fitdata_dict[method]\n",
    "    fitmodel=fitmodel_dict[method]\n",
    "    for raw_index in range(len(imagecube)):\n",
    "        i=0\n",
    "        raw_image=imagecube[raw_index]\n",
    "        raw_image[np.isnan(raw_image)]=0\n",
    "        if method in ['pca','ica']:\n",
    "            raw_image=raw_image-np.mean(raw_image)\n",
    "\n",
    "        raw_row=raw_image.reshape(raw_image.size)\n",
    "        \n",
    "        fitdata_truncated=fitdata.T[:n_components]\n",
    "        #'''\n",
    "        if method=='nmf':\n",
    "            ### nmf requires non-negative coefficients, so the code here is a bit different ###\n",
    "            fitdata_coeff_init=np.linalg.lstsq(np.transpose(fitdata_truncated),np.transpose(raw_row))[0]\n",
    "            res=minimize(nmf_residual,x0=fitdata_coeff_init,args=(fitdata_truncated,raw_row),\\\n",
    "                                  method='SLSQP',bounds=[(0,None)]*n_components)\n",
    "            #print res.success\n",
    "            fitdata_coeff=res.x\n",
    "            fitdata_coeff=np.transpose(fitdata_coeff)\n",
    "        else:\n",
    "            fitdata_coeff=np.linalg.lstsq(np.transpose(fitdata_truncated),np.transpose(raw_row))[0]\n",
    "        fitdata_reconstruct=np.transpose(np.dot(np.transpose(fitdata_truncated),fitdata_coeff))\n",
    "        fitdata_reconstruct=fitdata_reconstruct.reshape(raw_image.shape)\n",
    "        \n",
    "        #'''\n",
    "        #coeffs=fitdata[raw_index]\n",
    "        #fitdata_reconstruct=fitmodel.inverse_transform(coeffs)[0]\n",
    "        #print fitdata_reconstruct.shape\n",
    "        #fitdata_reconstruct=fitdata_reconstruct.reshape(raw_image.shape)\n",
    "        \n",
    "        fitsdata=fits.open(dataset.filenames[raw_index*37+1])\n",
    "        #print raw_index,dataset.filenames[raw_index*37+1]\n",
    "        #fitsdata=fits.PrimaryHDU(data=raw_image)\n",
    "        fitsdata[1].data=raw_image-fitdata_reconstruct\n",
    "        if os.path.exists(data_dir+'/save/tmp'+str(raw_index)+'.fits'):\n",
    "            os.system('rm '+data_dir+'/save/tmp'+str(raw_index)+'.fits')\n",
    "        fitsdata.writeto(data_dir+'/save/tmp'+str(raw_index)+'.fits')\n",
    "        filenamelist.append(data_dir+'/save/tmp'+str(raw_index)+'.fits')\n",
    "        \n",
    "    np.savetxt('swarp_input',filenamelist,fmt='%s')\n",
    "    os.system('swarp @swarp_input -IMAGEOUT_NAME ./coadd'+method+str(n_components)+'.fits')\n",
    "    \n",
    "    return 'coadd'+method+str(n_components)+'.fits'\n",
    "        "
   ]
  },
  {
   "cell_type": "code",
   "execution_count": 24,
   "metadata": {},
   "outputs": [
    {
     "data": {
      "text/plain": [
       "'coaddnmf10.fits'"
      ]
     },
     "execution_count": 24,
     "metadata": {},
     "output_type": "execute_result"
    }
   ],
   "source": [
    "show_results(method='ica',n_components=10)\n",
    "show_results(method='pca',n_components=10)\n",
    "show_results(method='nmf',n_components=10)"
   ]
  },
  {
   "cell_type": "markdown",
   "metadata": {
    "slideshow": {
     "slide_type": "slide"
    }
   },
   "source": [
    "#### NMF\n",
    "![nmf](NMF_sub.png)"
   ]
  },
  {
   "cell_type": "markdown",
   "metadata": {
    "slideshow": {
     "slide_type": "slide"
    }
   },
   "source": [
    "#### ICA\n",
    "![ica](ICA_sub.png)"
   ]
  },
  {
   "cell_type": "markdown",
   "metadata": {
    "slideshow": {
     "slide_type": "slide"
    }
   },
   "source": [
    "#### PCA\n",
    "![pca](PCA_sub.png)"
   ]
  },
  {
   "cell_type": "markdown",
   "metadata": {
    "slideshow": {
     "slide_type": "slide"
    }
   },
   "source": [
    "### Independent Component Analysis (ICA)\n",
    "\n",
    "Recall that ICA decompose the signal to several statistically irrelavant components (the crocktail party problem).\n",
    "\n",
    "How can we intepret this process in PSF modelling?\n",
    "... I do not know. Probably this is the reason why ICA does not work well.\n"
   ]
  },
  {
   "cell_type": "markdown",
   "metadata": {
    "slideshow": {
     "slide_type": "slide"
    }
   },
   "source": [
    "### Nonnegative Matrix Factorization (NMF)\n",
    "\n",
    "NMF tries to decompose the signal into several non-negative parts. It is useful when intepreting a signal that is a combination of some non-negative parts.\n",
    "\n",
    "It is not difficult to intepret NMF in PSF modeling, since PSF can be regarded as a combination of several patterns (for examples, rings of an Airy pattern).\n",
    "\n",
    "However, when we are trying to MODEL the shape of a PSF, rather than EXPLAIN why the PSF looks like this, NMF is less straightforward than PCA."
   ]
  },
  {
   "cell_type": "markdown",
   "metadata": {
    "slideshow": {
     "slide_type": "slide"
    }
   },
   "source": [
    "## Summary\n",
    "\n",
    "Anyway, it seems that naively applying ICA or NMF is not a good choice for high-contrast imaging... At least not as good as PCA."
   ]
  }
 ],
 "metadata": {
  "celltoolbar": "Slideshow",
  "kernelspec": {
   "display_name": "Python 2",
   "language": "python",
   "name": "python2"
  },
  "language_info": {
   "codemirror_mode": {
    "name": "ipython",
    "version": 2
   },
   "file_extension": ".py",
   "mimetype": "text/x-python",
   "name": "python",
   "nbconvert_exporter": "python",
   "pygments_lexer": "ipython2",
   "version": "2.7.11"
  }
 },
 "nbformat": 4,
 "nbformat_minor": 2
}
